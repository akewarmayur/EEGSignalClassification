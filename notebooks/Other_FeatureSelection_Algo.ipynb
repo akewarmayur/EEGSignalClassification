{
 "cells": [
  {
   "cell_type": "code",
   "execution_count": 13,
   "metadata": {},
   "outputs": [],
   "source": [
    "#Load the necessory packages and libraries\n",
    "import pandas as pd\n",
    "import numpy as np\n",
    "import seaborn as sns\n",
    "import matplotlib.pyplot as plt\n",
    "%matplotlib inline"
   ]
  },
  {
   "cell_type": "code",
   "execution_count": 14,
   "metadata": {},
   "outputs": [],
   "source": [
    "eeg_data = pd.read_csv(\"eeg_features\")"
   ]
  },
  {
   "cell_type": "code",
   "execution_count": 15,
   "metadata": {},
   "outputs": [
    {
     "name": "stdout",
     "output_type": "stream",
     "text": [
      "<class 'pandas.core.frame.DataFrame'>\n",
      "RangeIndex: 11500 entries, 0 to 11499\n",
      "Data columns (total 21 columns):\n",
      "Activity                             11500 non-null float64\n",
      "Mobility                             11500 non-null float64\n",
      "Complexity                           11500 non-null float64\n",
      "Kurtosis                             11500 non-null float64\n",
      "2nd Difference Mean                  11500 non-null float64\n",
      "2nd Difference Max                   11500 non-null float64\n",
      "Coeffiecient of Variation            11500 non-null float64\n",
      "Skewness                             11500 non-null float64\n",
      "1st Difference Mean                  11500 non-null float64\n",
      "1st Difference Max                   11500 non-null float64\n",
      "Wavelet Approximate Mean             11500 non-null float64\n",
      "Wavelet Approximate Std Deviation    11500 non-null float64\n",
      "Wavelet Detailed Mean                11500 non-null float64\n",
      "Wavelet Detailed Std Deviation       11500 non-null float64\n",
      "Wavelet Approximate Energy           11500 non-null float64\n",
      "Wavelet Detailed Energy              11500 non-null float64\n",
      "Wavelet Approximate Entropy          11500 non-null float64\n",
      "Wavelet Detailed Entropy             11500 non-null float64\n",
      "Variance                             11500 non-null float64\n",
      "Mean of Vertex to Vertex Slope       11500 non-null float64\n",
      "y                                    11500 non-null int64\n",
      "dtypes: float64(20), int64(1)\n",
      "memory usage: 1.8 MB\n"
     ]
    }
   ],
   "source": [
    "eeg_data.info()"
   ]
  },
  {
   "cell_type": "code",
   "execution_count": 16,
   "metadata": {},
   "outputs": [],
   "source": [
    "eeg_X = eeg_data.drop('y',axis=1)\n",
    "eeg_Y = eeg_data['y']"
   ]
  },
  {
   "cell_type": "code",
   "execution_count": 17,
   "metadata": {},
   "outputs": [],
   "source": [
    "#standardization\n",
    "from sklearn.preprocessing import StandardScaler"
   ]
  },
  {
   "cell_type": "code",
   "execution_count": 18,
   "metadata": {},
   "outputs": [],
   "source": [
    "scaler = StandardScaler()"
   ]
  },
  {
   "cell_type": "code",
   "execution_count": 19,
   "metadata": {},
   "outputs": [
    {
     "data": {
      "text/plain": [
       "StandardScaler(copy=True, with_mean=True, with_std=True)"
      ]
     },
     "execution_count": 19,
     "metadata": {},
     "output_type": "execute_result"
    }
   ],
   "source": [
    "scaler.fit(eeg_X)"
   ]
  },
  {
   "cell_type": "code",
   "execution_count": 20,
   "metadata": {},
   "outputs": [],
   "source": [
    "scaled_features = scaler.transform(eeg_X)"
   ]
  },
  {
   "cell_type": "code",
   "execution_count": 21,
   "metadata": {},
   "outputs": [
    {
     "data": {
      "text/html": [
       "<div>\n",
       "<style scoped>\n",
       "    .dataframe tbody tr th:only-of-type {\n",
       "        vertical-align: middle;\n",
       "    }\n",
       "\n",
       "    .dataframe tbody tr th {\n",
       "        vertical-align: top;\n",
       "    }\n",
       "\n",
       "    .dataframe thead th {\n",
       "        text-align: right;\n",
       "    }\n",
       "</style>\n",
       "<table border=\"1\" class=\"dataframe\">\n",
       "  <thead>\n",
       "    <tr style=\"text-align: right;\">\n",
       "      <th></th>\n",
       "      <th>0</th>\n",
       "      <th>1</th>\n",
       "      <th>2</th>\n",
       "      <th>3</th>\n",
       "      <th>4</th>\n",
       "      <th>5</th>\n",
       "      <th>6</th>\n",
       "      <th>7</th>\n",
       "      <th>8</th>\n",
       "      <th>9</th>\n",
       "      <th>10</th>\n",
       "      <th>11</th>\n",
       "      <th>12</th>\n",
       "      <th>13</th>\n",
       "      <th>14</th>\n",
       "      <th>15</th>\n",
       "      <th>16</th>\n",
       "      <th>17</th>\n",
       "      <th>18</th>\n",
       "      <th>19</th>\n",
       "    </tr>\n",
       "  </thead>\n",
       "  <tbody>\n",
       "    <tr>\n",
       "      <th>0</th>\n",
       "      <td>-0.222864</td>\n",
       "      <td>0.077247</td>\n",
       "      <td>-0.139909</td>\n",
       "      <td>-0.590682</td>\n",
       "      <td>0.083719</td>\n",
       "      <td>0.193719</td>\n",
       "      <td>0.002680</td>\n",
       "      <td>0.428616</td>\n",
       "      <td>0.017762</td>\n",
       "      <td>0.043959</td>\n",
       "      <td>-0.640038</td>\n",
       "      <td>0.041128</td>\n",
       "      <td>-0.252944</td>\n",
       "      <td>-0.079321</td>\n",
       "      <td>-0.204336</td>\n",
       "      <td>-0.244402</td>\n",
       "      <td>-0.262383</td>\n",
       "      <td>-0.269385</td>\n",
       "      <td>-0.121941</td>\n",
       "      <td>-0.208735</td>\n",
       "    </tr>\n",
       "    <tr>\n",
       "      <th>1</th>\n",
       "      <td>2.567363</td>\n",
       "      <td>-1.235215</td>\n",
       "      <td>1.477894</td>\n",
       "      <td>-0.532721</td>\n",
       "      <td>2.953272</td>\n",
       "      <td>2.667414</td>\n",
       "      <td>0.031063</td>\n",
       "      <td>0.573445</td>\n",
       "      <td>2.397372</td>\n",
       "      <td>2.114061</td>\n",
       "      <td>0.648986</td>\n",
       "      <td>2.730659</td>\n",
       "      <td>-3.570428</td>\n",
       "      <td>2.827618</td>\n",
       "      <td>2.281329</td>\n",
       "      <td>2.551466</td>\n",
       "      <td>2.374573</td>\n",
       "      <td>2.115570</td>\n",
       "      <td>0.000913</td>\n",
       "      <td>1.913398</td>\n",
       "    </tr>\n",
       "    <tr>\n",
       "      <th>2</th>\n",
       "      <td>-0.326074</td>\n",
       "      <td>0.301299</td>\n",
       "      <td>0.387987</td>\n",
       "      <td>-1.013345</td>\n",
       "      <td>-0.374289</td>\n",
       "      <td>-0.263437</td>\n",
       "      <td>0.003399</td>\n",
       "      <td>0.027148</td>\n",
       "      <td>-0.332939</td>\n",
       "      <td>-0.481745</td>\n",
       "      <td>-0.246860</td>\n",
       "      <td>-0.431978</td>\n",
       "      <td>1.012732</td>\n",
       "      <td>-0.407652</td>\n",
       "      <td>-0.331757</td>\n",
       "      <td>-0.313125</td>\n",
       "      <td>-0.273664</td>\n",
       "      <td>-0.271567</td>\n",
       "      <td>-0.200953</td>\n",
       "      <td>-0.314402</td>\n",
       "    </tr>\n",
       "    <tr>\n",
       "      <th>3</th>\n",
       "      <td>-0.337842</td>\n",
       "      <td>0.162652</td>\n",
       "      <td>0.933090</td>\n",
       "      <td>2.539759</td>\n",
       "      <td>-0.521943</td>\n",
       "      <td>-0.166927</td>\n",
       "      <td>0.004779</td>\n",
       "      <td>-2.711158</td>\n",
       "      <td>-0.509974</td>\n",
       "      <td>-0.288645</td>\n",
       "      <td>-0.277415</td>\n",
       "      <td>-0.477932</td>\n",
       "      <td>0.489424</td>\n",
       "      <td>-0.469083</td>\n",
       "      <td>-0.338409</td>\n",
       "      <td>-0.331251</td>\n",
       "      <td>-0.264505</td>\n",
       "      <td>-0.256596</td>\n",
       "      <td>0.003267</td>\n",
       "      <td>-0.315614</td>\n",
       "    </tr>\n",
       "    <tr>\n",
       "      <th>4</th>\n",
       "      <td>-0.316347</td>\n",
       "      <td>-0.776756</td>\n",
       "      <td>-0.219714</td>\n",
       "      <td>-0.110022</td>\n",
       "      <td>-0.377606</td>\n",
       "      <td>-0.155330</td>\n",
       "      <td>0.018692</td>\n",
       "      <td>0.216540</td>\n",
       "      <td>-0.384455</td>\n",
       "      <td>-0.370573</td>\n",
       "      <td>0.299761</td>\n",
       "      <td>-0.250972</td>\n",
       "      <td>-0.366760</td>\n",
       "      <td>-0.417572</td>\n",
       "      <td>-0.295610</td>\n",
       "      <td>-0.324277</td>\n",
       "      <td>-0.267266</td>\n",
       "      <td>-0.264462</td>\n",
       "      <td>0.006699</td>\n",
       "      <td>-0.321871</td>\n",
       "    </tr>\n",
       "  </tbody>\n",
       "</table>\n",
       "</div>"
      ],
      "text/plain": [
       "         0         1         2         3         4         5         6   \\\n",
       "0 -0.222864  0.077247 -0.139909 -0.590682  0.083719  0.193719  0.002680   \n",
       "1  2.567363 -1.235215  1.477894 -0.532721  2.953272  2.667414  0.031063   \n",
       "2 -0.326074  0.301299  0.387987 -1.013345 -0.374289 -0.263437  0.003399   \n",
       "3 -0.337842  0.162652  0.933090  2.539759 -0.521943 -0.166927  0.004779   \n",
       "4 -0.316347 -0.776756 -0.219714 -0.110022 -0.377606 -0.155330  0.018692   \n",
       "\n",
       "         7         8         9         10        11        12        13  \\\n",
       "0  0.428616  0.017762  0.043959 -0.640038  0.041128 -0.252944 -0.079321   \n",
       "1  0.573445  2.397372  2.114061  0.648986  2.730659 -3.570428  2.827618   \n",
       "2  0.027148 -0.332939 -0.481745 -0.246860 -0.431978  1.012732 -0.407652   \n",
       "3 -2.711158 -0.509974 -0.288645 -0.277415 -0.477932  0.489424 -0.469083   \n",
       "4  0.216540 -0.384455 -0.370573  0.299761 -0.250972 -0.366760 -0.417572   \n",
       "\n",
       "         14        15        16        17        18        19  \n",
       "0 -0.204336 -0.244402 -0.262383 -0.269385 -0.121941 -0.208735  \n",
       "1  2.281329  2.551466  2.374573  2.115570  0.000913  1.913398  \n",
       "2 -0.331757 -0.313125 -0.273664 -0.271567 -0.200953 -0.314402  \n",
       "3 -0.338409 -0.331251 -0.264505 -0.256596  0.003267 -0.315614  \n",
       "4 -0.295610 -0.324277 -0.267266 -0.264462  0.006699 -0.321871  "
      ]
     },
     "execution_count": 21,
     "metadata": {},
     "output_type": "execute_result"
    }
   ],
   "source": [
    "eeg_feature = pd.DataFrame(scaled_features)\n",
    "eeg_feature.head()"
   ]
  },
  {
   "cell_type": "markdown",
   "metadata": {},
   "source": [
    "## Univariate Selection"
   ]
  },
  {
   "cell_type": "code",
   "execution_count": 22,
   "metadata": {},
   "outputs": [],
   "source": [
    "from sklearn.feature_selection import SelectKBest\n",
    "from sklearn.feature_selection import chi2"
   ]
  },
  {
   "cell_type": "code",
   "execution_count": 24,
   "metadata": {},
   "outputs": [],
   "source": [
    "# feature selection\n",
    "test = SelectKBest(score_func=chi2, k=4)\n",
    "fit = test.fit(eeg_X, eeg_Y)"
   ]
  },
  {
   "cell_type": "code",
   "execution_count": 27,
   "metadata": {},
   "outputs": [
    {
     "name": "stdout",
     "output_type": "stream",
     "text": [
      "[1.157e+03 2.129e+00 8.057e-03 3.427e+01 1.222e+03 3.635e+01 5.200e-05\n",
      " 9.766e-02 1.262e+03 9.944e+02 1.355e-01 1.333e+03 1.267e-02 1.245e+03\n",
      " 1.200e+03 1.018e+03 8.514e+02 7.730e+02 3.470e-04 1.021e+03]\n"
     ]
    }
   ],
   "source": [
    "np.set_printoptions(precision=3)\n",
    "print(fit.scores_)\n",
    "features = fit.transform(eeg_X)"
   ]
  },
  {
   "cell_type": "code",
   "execution_count": 28,
   "metadata": {},
   "outputs": [
    {
     "name": "stdout",
     "output_type": "stream",
     "text": [
      "[[0.11  0.101 0.115 0.092]\n",
      " [0.492 0.42  0.505 0.491]\n",
      " [0.049 0.054 0.046 0.047]\n",
      " [0.029 0.03  0.04  0.039]\n",
      " [0.048 0.047 0.073 0.046]]\n"
     ]
    }
   ],
   "source": [
    "# summarize selected features\n",
    "print(features[0:5,:])"
   ]
  },
  {
   "cell_type": "code",
   "execution_count": 29,
   "metadata": {},
   "outputs": [
    {
     "data": {
      "text/plain": [
       "(11500, 4)"
      ]
     },
     "execution_count": 29,
     "metadata": {},
     "output_type": "execute_result"
    }
   ],
   "source": [
    "features.shape"
   ]
  },
  {
   "cell_type": "markdown",
   "metadata": {},
   "source": [
    "## Recursive Feature Elimination"
   ]
  },
  {
   "cell_type": "code",
   "execution_count": 30,
   "metadata": {},
   "outputs": [],
   "source": [
    "from sklearn.feature_selection import RFE\n",
    "from sklearn.ensemble import RandomForestClassifier"
   ]
  },
  {
   "cell_type": "code",
   "execution_count": null,
   "metadata": {},
   "outputs": [],
   "source": [
    "# feature selection\n",
    "model = RandomForestClassifier(n_estimators=100)\n",
    "rfe = RFE(model, 3)\n",
    "fit = rfe.fit(eeg_X, eeg_Y)\n",
    "print(\"Num Features: \") \n",
    "print(fit.n_features_)\n",
    "print(\"Selected Features:\")\n",
    "print(fit.support_)\n",
    "print(\"Feature Ranking:\")\n",
    "print(fit.ranking_)"
   ]
  },
  {
   "cell_type": "code",
   "execution_count": null,
   "metadata": {},
   "outputs": [],
   "source": []
  }
 ],
 "metadata": {
  "kernelspec": {
   "display_name": "Python 3",
   "language": "python",
   "name": "python3"
  },
  "language_info": {
   "codemirror_mode": {
    "name": "ipython",
    "version": 3
   },
   "file_extension": ".py",
   "mimetype": "text/x-python",
   "name": "python",
   "nbconvert_exporter": "python",
   "pygments_lexer": "ipython3",
   "version": "3.6.5"
  }
 },
 "nbformat": 4,
 "nbformat_minor": 2
}
