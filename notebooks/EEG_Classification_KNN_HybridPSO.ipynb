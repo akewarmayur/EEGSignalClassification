{
 "cells": [
  {
   "cell_type": "markdown",
   "metadata": {},
   "source": [
    "### Classification using KNN"
   ]
  },
  {
   "cell_type": "markdown",
   "metadata": {},
   "source": [
    "##### Hybrid PSO is used for Feature Selection"
   ]
  },
  {
   "cell_type": "markdown",
   "metadata": {},
   "source": [
    "##### Naive Bayes is used for calculation of accuracy"
   ]
  },
  {
   "cell_type": "code",
   "execution_count": 1,
   "metadata": {},
   "outputs": [],
   "source": [
    "#Load the necessory packages and libraries\n",
    "# Need to install all the libraries that are not in your system"
   ]
  },
  {
   "cell_type": "code",
   "execution_count": 2,
   "metadata": {},
   "outputs": [],
   "source": [
    "import pandas as pd\n",
    "import numpy as np\n",
    "import matplotlib.pyplot as plt\n",
    "import pywt\n",
    "from scipy import signal\n",
    "from sklearn.metrics import accuracy_score\n",
    "import random\n",
    "import pyswarms as ps\n",
    "%matplotlib inline"
   ]
  },
  {
   "cell_type": "code",
   "execution_count": 3,
   "metadata": {},
   "outputs": [],
   "source": [
    "#Read the extracted features csv file"
   ]
  },
  {
   "cell_type": "code",
   "execution_count": 4,
   "metadata": {},
   "outputs": [],
   "source": [
    "features = pd.read_csv(\"features.csv\", sep = ',')"
   ]
  },
  {
   "cell_type": "code",
   "execution_count": 5,
   "metadata": {},
   "outputs": [
    {
     "data": {
      "text/html": [
       "<div>\n",
       "<style scoped>\n",
       "    .dataframe tbody tr th:only-of-type {\n",
       "        vertical-align: middle;\n",
       "    }\n",
       "\n",
       "    .dataframe tbody tr th {\n",
       "        vertical-align: top;\n",
       "    }\n",
       "\n",
       "    .dataframe thead th {\n",
       "        text-align: right;\n",
       "    }\n",
       "</style>\n",
       "<table border=\"1\" class=\"dataframe\">\n",
       "  <thead>\n",
       "    <tr style=\"text-align: right;\">\n",
       "      <th></th>\n",
       "      <th>mean_cA</th>\n",
       "      <th>energy_cA</th>\n",
       "      <th>std_cA</th>\n",
       "      <th>var_cA</th>\n",
       "      <th>absvalue_cA</th>\n",
       "      <th>avgpower_cA</th>\n",
       "      <th>mean_cD1</th>\n",
       "      <th>energy_cD1</th>\n",
       "      <th>std_cD1</th>\n",
       "      <th>var_cD1</th>\n",
       "      <th>...</th>\n",
       "      <th>var_cD3</th>\n",
       "      <th>absvalue_cD3</th>\n",
       "      <th>avgpower_cD3</th>\n",
       "      <th>mean_cD4</th>\n",
       "      <th>energy_cD4</th>\n",
       "      <th>std_cD4</th>\n",
       "      <th>var_cD4</th>\n",
       "      <th>absvalue_cD4</th>\n",
       "      <th>avgpower_cD4</th>\n",
       "      <th>y</th>\n",
       "    </tr>\n",
       "  </thead>\n",
       "  <tbody>\n",
       "    <tr>\n",
       "      <th>0</th>\n",
       "      <td>168.657765</td>\n",
       "      <td>3.690802e+06</td>\n",
       "      <td>434.350715</td>\n",
       "      <td>1.886605e+05</td>\n",
       "      <td>379.379385</td>\n",
       "      <td>2.171060e+05</td>\n",
       "      <td>42.936816</td>\n",
       "      <td>1.535263e+05</td>\n",
       "      <td>84.778474</td>\n",
       "      <td>7187.389589</td>\n",
       "      <td>...</td>\n",
       "      <td>2178.476128</td>\n",
       "      <td>36.189001</td>\n",
       "      <td>2184.247992</td>\n",
       "      <td>-0.101826</td>\n",
       "      <td>7569.491844</td>\n",
       "      <td>9.070100</td>\n",
       "      <td>82.266717</td>\n",
       "      <td>7.226628</td>\n",
       "      <td>82.277085</td>\n",
       "      <td>0</td>\n",
       "    </tr>\n",
       "    <tr>\n",
       "      <th>1</th>\n",
       "      <td>526.897609</td>\n",
       "      <td>2.982845e+07</td>\n",
       "      <td>1215.316304</td>\n",
       "      <td>1.476994e+06</td>\n",
       "      <td>1157.791397</td>\n",
       "      <td>1.754615e+06</td>\n",
       "      <td>-140.260084</td>\n",
       "      <td>1.164573e+07</td>\n",
       "      <td>815.702345</td>\n",
       "      <td>665370.315473</td>\n",
       "      <td>...</td>\n",
       "      <td>46511.947059</td>\n",
       "      <td>106.431487</td>\n",
       "      <td>46516.016342</td>\n",
       "      <td>-0.642356</td>\n",
       "      <td>74217.980651</td>\n",
       "      <td>28.395502</td>\n",
       "      <td>806.304560</td>\n",
       "      <td>12.574428</td>\n",
       "      <td>806.717181</td>\n",
       "      <td>1</td>\n",
       "    </tr>\n",
       "    <tr>\n",
       "      <th>2</th>\n",
       "      <td>-165.463089</td>\n",
       "      <td>5.954840e+05</td>\n",
       "      <td>87.466787</td>\n",
       "      <td>7.650439e+03</td>\n",
       "      <td>166.277270</td>\n",
       "      <td>3.502847e+04</td>\n",
       "      <td>-31.466787</td>\n",
       "      <td>9.436542e+04</td>\n",
       "      <td>67.533312</td>\n",
       "      <td>4560.748192</td>\n",
       "      <td>...</td>\n",
       "      <td>379.181988</td>\n",
       "      <td>16.762068</td>\n",
       "      <td>379.790965</td>\n",
       "      <td>-0.263038</td>\n",
       "      <td>1716.899579</td>\n",
       "      <td>4.311933</td>\n",
       "      <td>18.592763</td>\n",
       "      <td>3.476872</td>\n",
       "      <td>18.661952</td>\n",
       "      <td>0</td>\n",
       "    </tr>\n",
       "    <tr>\n",
       "      <th>3</th>\n",
       "      <td>-309.218794</td>\n",
       "      <td>1.686014e+06</td>\n",
       "      <td>59.674572</td>\n",
       "      <td>3.561055e+03</td>\n",
       "      <td>309.218794</td>\n",
       "      <td>9.917732e+04</td>\n",
       "      <td>8.360773</td>\n",
       "      <td>1.825810e+04</td>\n",
       "      <td>31.687591</td>\n",
       "      <td>1004.103428</td>\n",
       "      <td>...</td>\n",
       "      <td>51.104956</td>\n",
       "      <td>5.851840</td>\n",
       "      <td>51.254145</td>\n",
       "      <td>-0.040600</td>\n",
       "      <td>813.688912</td>\n",
       "      <td>2.973684</td>\n",
       "      <td>8.842796</td>\n",
       "      <td>2.419046</td>\n",
       "      <td>8.844445</td>\n",
       "      <td>0</td>\n",
       "    </tr>\n",
       "    <tr>\n",
       "      <th>4</th>\n",
       "      <td>-114.470121</td>\n",
       "      <td>5.950417e+05</td>\n",
       "      <td>147.983260</td>\n",
       "      <td>2.189905e+04</td>\n",
       "      <td>150.707093</td>\n",
       "      <td>3.500245e+04</td>\n",
       "      <td>-16.875378</td>\n",
       "      <td>5.298987e+04</td>\n",
       "      <td>53.219103</td>\n",
       "      <td>2832.272950</td>\n",
       "      <td>...</td>\n",
       "      <td>768.233538</td>\n",
       "      <td>20.674280</td>\n",
       "      <td>770.063840</td>\n",
       "      <td>0.208534</td>\n",
       "      <td>2503.114777</td>\n",
       "      <td>5.211937</td>\n",
       "      <td>27.164283</td>\n",
       "      <td>4.083667</td>\n",
       "      <td>27.207769</td>\n",
       "      <td>0</td>\n",
       "    </tr>\n",
       "  </tbody>\n",
       "</table>\n",
       "<p>5 rows × 31 columns</p>\n",
       "</div>"
      ],
      "text/plain": [
       "      mean_cA     energy_cA       std_cA        var_cA  absvalue_cA  \\\n",
       "0  168.657765  3.690802e+06   434.350715  1.886605e+05   379.379385   \n",
       "1  526.897609  2.982845e+07  1215.316304  1.476994e+06  1157.791397   \n",
       "2 -165.463089  5.954840e+05    87.466787  7.650439e+03   166.277270   \n",
       "3 -309.218794  1.686014e+06    59.674572  3.561055e+03   309.218794   \n",
       "4 -114.470121  5.950417e+05   147.983260  2.189905e+04   150.707093   \n",
       "\n",
       "    avgpower_cA    mean_cD1    energy_cD1     std_cD1        var_cD1 ...  \\\n",
       "0  2.171060e+05   42.936816  1.535263e+05   84.778474    7187.389589 ...   \n",
       "1  1.754615e+06 -140.260084  1.164573e+07  815.702345  665370.315473 ...   \n",
       "2  3.502847e+04  -31.466787  9.436542e+04   67.533312    4560.748192 ...   \n",
       "3  9.917732e+04    8.360773  1.825810e+04   31.687591    1004.103428 ...   \n",
       "4  3.500245e+04  -16.875378  5.298987e+04   53.219103    2832.272950 ...   \n",
       "\n",
       "        var_cD3  absvalue_cD3  avgpower_cD3  mean_cD4    energy_cD4  \\\n",
       "0   2178.476128     36.189001   2184.247992 -0.101826   7569.491844   \n",
       "1  46511.947059    106.431487  46516.016342 -0.642356  74217.980651   \n",
       "2    379.181988     16.762068    379.790965 -0.263038   1716.899579   \n",
       "3     51.104956      5.851840     51.254145 -0.040600    813.688912   \n",
       "4    768.233538     20.674280    770.063840  0.208534   2503.114777   \n",
       "\n",
       "     std_cD4     var_cD4  absvalue_cD4  avgpower_cD4  y  \n",
       "0   9.070100   82.266717      7.226628     82.277085  0  \n",
       "1  28.395502  806.304560     12.574428    806.717181  1  \n",
       "2   4.311933   18.592763      3.476872     18.661952  0  \n",
       "3   2.973684    8.842796      2.419046      8.844445  0  \n",
       "4   5.211937   27.164283      4.083667     27.207769  0  \n",
       "\n",
       "[5 rows x 31 columns]"
      ]
     },
     "execution_count": 5,
     "metadata": {},
     "output_type": "execute_result"
    }
   ],
   "source": [
    "features.head()"
   ]
  },
  {
   "cell_type": "code",
   "execution_count": 6,
   "metadata": {},
   "outputs": [
    {
     "data": {
      "text/html": [
       "<div>\n",
       "<style scoped>\n",
       "    .dataframe tbody tr th:only-of-type {\n",
       "        vertical-align: middle;\n",
       "    }\n",
       "\n",
       "    .dataframe tbody tr th {\n",
       "        vertical-align: top;\n",
       "    }\n",
       "\n",
       "    .dataframe thead th {\n",
       "        text-align: right;\n",
       "    }\n",
       "</style>\n",
       "<table border=\"1\" class=\"dataframe\">\n",
       "  <thead>\n",
       "    <tr style=\"text-align: right;\">\n",
       "      <th></th>\n",
       "      <th>mean_cA</th>\n",
       "      <th>energy_cA</th>\n",
       "      <th>std_cA</th>\n",
       "      <th>var_cA</th>\n",
       "      <th>absvalue_cA</th>\n",
       "      <th>avgpower_cA</th>\n",
       "      <th>mean_cD1</th>\n",
       "      <th>energy_cD1</th>\n",
       "      <th>std_cD1</th>\n",
       "      <th>var_cD1</th>\n",
       "      <th>...</th>\n",
       "      <th>std_cD3</th>\n",
       "      <th>var_cD3</th>\n",
       "      <th>absvalue_cD3</th>\n",
       "      <th>avgpower_cD3</th>\n",
       "      <th>mean_cD4</th>\n",
       "      <th>energy_cD4</th>\n",
       "      <th>std_cD4</th>\n",
       "      <th>var_cD4</th>\n",
       "      <th>absvalue_cD4</th>\n",
       "      <th>avgpower_cD4</th>\n",
       "    </tr>\n",
       "  </thead>\n",
       "  <tbody>\n",
       "    <tr>\n",
       "      <th>0</th>\n",
       "      <td>168.657765</td>\n",
       "      <td>3.690802e+06</td>\n",
       "      <td>434.350715</td>\n",
       "      <td>188660.543812</td>\n",
       "      <td>379.379385</td>\n",
       "      <td>217105.985661</td>\n",
       "      <td>42.936816</td>\n",
       "      <td>153526.315353</td>\n",
       "      <td>84.778474</td>\n",
       "      <td>7187.389589</td>\n",
       "      <td>...</td>\n",
       "      <td>46.674148</td>\n",
       "      <td>2178.476128</td>\n",
       "      <td>36.189001</td>\n",
       "      <td>2184.247992</td>\n",
       "      <td>-0.101826</td>\n",
       "      <td>7569.491844</td>\n",
       "      <td>9.0701</td>\n",
       "      <td>82.266717</td>\n",
       "      <td>7.226628</td>\n",
       "      <td>82.277085</td>\n",
       "    </tr>\n",
       "  </tbody>\n",
       "</table>\n",
       "<p>1 rows × 30 columns</p>\n",
       "</div>"
      ],
      "text/plain": [
       "      mean_cA     energy_cA      std_cA         var_cA  absvalue_cA  \\\n",
       "0  168.657765  3.690802e+06  434.350715  188660.543812   379.379385   \n",
       "\n",
       "     avgpower_cA   mean_cD1     energy_cD1    std_cD1      var_cD1  \\\n",
       "0  217105.985661  42.936816  153526.315353  84.778474  7187.389589   \n",
       "\n",
       "       ...         std_cD3      var_cD3  absvalue_cD3  avgpower_cD3  mean_cD4  \\\n",
       "0      ...       46.674148  2178.476128     36.189001   2184.247992 -0.101826   \n",
       "\n",
       "    energy_cD4  std_cD4    var_cD4  absvalue_cD4  avgpower_cD4  \n",
       "0  7569.491844   9.0701  82.266717      7.226628     82.277085  \n",
       "\n",
       "[1 rows x 30 columns]"
      ]
     },
     "execution_count": 6,
     "metadata": {},
     "output_type": "execute_result"
    }
   ],
   "source": [
    "#EEG Signal Data\n",
    "eeg_X = features.drop('y',axis=1)\n",
    "eeg_X.head(1)"
   ]
  },
  {
   "cell_type": "code",
   "execution_count": 7,
   "metadata": {},
   "outputs": [],
   "source": [
    "#EEG Signal Label\n",
    "eeg_Y = features['y']"
   ]
  },
  {
   "cell_type": "code",
   "execution_count": 8,
   "metadata": {},
   "outputs": [
    {
     "data": {
      "text/html": [
       "<div>\n",
       "<style scoped>\n",
       "    .dataframe tbody tr th:only-of-type {\n",
       "        vertical-align: middle;\n",
       "    }\n",
       "\n",
       "    .dataframe tbody tr th {\n",
       "        vertical-align: top;\n",
       "    }\n",
       "\n",
       "    .dataframe thead th {\n",
       "        text-align: right;\n",
       "    }\n",
       "</style>\n",
       "<table border=\"1\" class=\"dataframe\">\n",
       "  <thead>\n",
       "    <tr style=\"text-align: right;\">\n",
       "      <th></th>\n",
       "      <th>0</th>\n",
       "      <th>1</th>\n",
       "      <th>2</th>\n",
       "      <th>3</th>\n",
       "      <th>4</th>\n",
       "      <th>5</th>\n",
       "      <th>6</th>\n",
       "      <th>7</th>\n",
       "      <th>8</th>\n",
       "      <th>9</th>\n",
       "      <th>...</th>\n",
       "      <th>20</th>\n",
       "      <th>21</th>\n",
       "      <th>22</th>\n",
       "      <th>23</th>\n",
       "      <th>24</th>\n",
       "      <th>25</th>\n",
       "      <th>26</th>\n",
       "      <th>27</th>\n",
       "      <th>28</th>\n",
       "      <th>29</th>\n",
       "    </tr>\n",
       "  </thead>\n",
       "  <tbody>\n",
       "    <tr>\n",
       "      <th>0</th>\n",
       "      <td>0.949482</td>\n",
       "      <td>-0.042852</td>\n",
       "      <td>0.436261</td>\n",
       "      <td>-0.019769</td>\n",
       "      <td>0.329815</td>\n",
       "      <td>-0.042852</td>\n",
       "      <td>0.784123</td>\n",
       "      <td>-0.306785</td>\n",
       "      <td>-0.357107</td>\n",
       "      <td>-0.310274</td>\n",
       "      <td>...</td>\n",
       "      <td>0.159414</td>\n",
       "      <td>-0.137772</td>\n",
       "      <td>0.245653</td>\n",
       "      <td>-0.137582</td>\n",
       "      <td>-0.139863</td>\n",
       "      <td>-0.099876</td>\n",
       "      <td>0.234121</td>\n",
       "      <td>-0.099132</td>\n",
       "      <td>0.420650</td>\n",
       "      <td>-0.099876</td>\n",
       "    </tr>\n",
       "    <tr>\n",
       "      <th>1</th>\n",
       "      <td>2.625738</td>\n",
       "      <td>2.182559</td>\n",
       "      <td>2.695884</td>\n",
       "      <td>2.253530</td>\n",
       "      <td>2.860447</td>\n",
       "      <td>2.182559</td>\n",
       "      <td>-2.495066</td>\n",
       "      <td>2.218741</td>\n",
       "      <td>2.660073</td>\n",
       "      <td>2.215925</td>\n",
       "      <td>...</td>\n",
       "      <td>3.068352</td>\n",
       "      <td>2.214875</td>\n",
       "      <td>2.059336</td>\n",
       "      <td>2.213680</td>\n",
       "      <td>-0.931173</td>\n",
       "      <td>1.653685</td>\n",
       "      <td>2.494261</td>\n",
       "      <td>1.659859</td>\n",
       "      <td>1.431335</td>\n",
       "      <td>1.653685</td>\n",
       "    </tr>\n",
       "    <tr>\n",
       "      <th>2</th>\n",
       "      <td>-0.613918</td>\n",
       "      <td>-0.306393</td>\n",
       "      <td>-0.567403</td>\n",
       "      <td>-0.339167</td>\n",
       "      <td>-0.362984</td>\n",
       "      <td>-0.306393</td>\n",
       "      <td>-0.547687</td>\n",
       "      <td>-0.319787</td>\n",
       "      <td>-0.428294</td>\n",
       "      <td>-0.320355</td>\n",
       "      <td>...</td>\n",
       "      <td>-0.308818</td>\n",
       "      <td>-0.233256</td>\n",
       "      <td>-0.255957</td>\n",
       "      <td>-0.233286</td>\n",
       "      <td>-0.375870</td>\n",
       "      <td>-0.253861</td>\n",
       "      <td>-0.322355</td>\n",
       "      <td>-0.253823</td>\n",
       "      <td>-0.288020</td>\n",
       "      <td>-0.253861</td>\n",
       "    </tr>\n",
       "    <tr>\n",
       "      <th>3</th>\n",
       "      <td>-1.286572</td>\n",
       "      <td>-0.213543</td>\n",
       "      <td>-0.647816</td>\n",
       "      <td>-0.346382</td>\n",
       "      <td>0.101721</td>\n",
       "      <td>-0.213543</td>\n",
       "      <td>0.165219</td>\n",
       "      <td>-0.336512</td>\n",
       "      <td>-0.576261</td>\n",
       "      <td>-0.334006</td>\n",
       "      <td>...</td>\n",
       "      <td>-0.520954</td>\n",
       "      <td>-0.250666</td>\n",
       "      <td>-0.537662</td>\n",
       "      <td>-0.250711</td>\n",
       "      <td>-0.050230</td>\n",
       "      <td>-0.277625</td>\n",
       "      <td>-0.478865</td>\n",
       "      <td>-0.277510</td>\n",
       "      <td>-0.487939</td>\n",
       "      <td>-0.277625</td>\n",
       "    </tr>\n",
       "    <tr>\n",
       "      <th>4</th>\n",
       "      <td>-0.375314</td>\n",
       "      <td>-0.306431</td>\n",
       "      <td>-0.392306</td>\n",
       "      <td>-0.314025</td>\n",
       "      <td>-0.413603</td>\n",
       "      <td>-0.306431</td>\n",
       "      <td>-0.286504</td>\n",
       "      <td>-0.328879</td>\n",
       "      <td>-0.487381</td>\n",
       "      <td>-0.326989</td>\n",
       "      <td>...</td>\n",
       "      <td>-0.166903</td>\n",
       "      <td>-0.212610</td>\n",
       "      <td>-0.154942</td>\n",
       "      <td>-0.212587</td>\n",
       "      <td>0.314491</td>\n",
       "      <td>-0.233175</td>\n",
       "      <td>-0.217098</td>\n",
       "      <td>-0.232999</td>\n",
       "      <td>-0.173341</td>\n",
       "      <td>-0.233175</td>\n",
       "    </tr>\n",
       "  </tbody>\n",
       "</table>\n",
       "<p>5 rows × 30 columns</p>\n",
       "</div>"
      ],
      "text/plain": [
       "         0         1         2         3         4         5         6   \\\n",
       "0  0.949482 -0.042852  0.436261 -0.019769  0.329815 -0.042852  0.784123   \n",
       "1  2.625738  2.182559  2.695884  2.253530  2.860447  2.182559 -2.495066   \n",
       "2 -0.613918 -0.306393 -0.567403 -0.339167 -0.362984 -0.306393 -0.547687   \n",
       "3 -1.286572 -0.213543 -0.647816 -0.346382  0.101721 -0.213543  0.165219   \n",
       "4 -0.375314 -0.306431 -0.392306 -0.314025 -0.413603 -0.306431 -0.286504   \n",
       "\n",
       "         7         8         9     ...           20        21        22  \\\n",
       "0 -0.306785 -0.357107 -0.310274    ...     0.159414 -0.137772  0.245653   \n",
       "1  2.218741  2.660073  2.215925    ...     3.068352  2.214875  2.059336   \n",
       "2 -0.319787 -0.428294 -0.320355    ...    -0.308818 -0.233256 -0.255957   \n",
       "3 -0.336512 -0.576261 -0.334006    ...    -0.520954 -0.250666 -0.537662   \n",
       "4 -0.328879 -0.487381 -0.326989    ...    -0.166903 -0.212610 -0.154942   \n",
       "\n",
       "         23        24        25        26        27        28        29  \n",
       "0 -0.137582 -0.139863 -0.099876  0.234121 -0.099132  0.420650 -0.099876  \n",
       "1  2.213680 -0.931173  1.653685  2.494261  1.659859  1.431335  1.653685  \n",
       "2 -0.233286 -0.375870 -0.253861 -0.322355 -0.253823 -0.288020 -0.253861  \n",
       "3 -0.250711 -0.050230 -0.277625 -0.478865 -0.277510 -0.487939 -0.277625  \n",
       "4 -0.212587  0.314491 -0.233175 -0.217098 -0.232999 -0.173341 -0.233175  \n",
       "\n",
       "[5 rows x 30 columns]"
      ]
     },
     "execution_count": 8,
     "metadata": {},
     "output_type": "execute_result"
    }
   ],
   "source": [
    "# Normalization of Features\n",
    "#standardization\n",
    "#standardization\n",
    "from sklearn.preprocessing import StandardScaler\n",
    "scaler = StandardScaler()\n",
    "scaler.fit(eeg_X)\n",
    "scaled_features = scaler.transform(eeg_X)\n",
    "eeg_features = pd.DataFrame(scaled_features)\n",
    "eeg_features.head()"
   ]
  },
  {
   "cell_type": "code",
   "execution_count": 9,
   "metadata": {},
   "outputs": [
    {
     "name": "stdout",
     "output_type": "stream",
     "text": [
      "(11500, 30)\n",
      "(11500,)\n"
     ]
    }
   ],
   "source": [
    "#Cnvert Dataframe into Numpy Array for PSO\n",
    "X = np.array(eeg_features)\n",
    "y = np.array(eeg_Y)\n",
    "print(X.shape)\n",
    "print(y.shape)"
   ]
  },
  {
   "cell_type": "markdown",
   "metadata": {},
   "source": [
    "##### Feature Selection using PSO (Naive Bayes)"
   ]
  },
  {
   "cell_type": "code",
   "execution_count": 10,
   "metadata": {},
   "outputs": [],
   "source": [
    "#Calculating Fitness using Naive Bayes\n",
    "from sklearn.naive_bayes import GaussianNB\n",
    "# Create an instance of Naive Bayes\n",
    "classifier = GaussianNB()\n",
    "\n",
    "# Define objective function\n",
    "def f_per_particle(m, alpha):\n",
    "    \"\"\"Computes for the objective function per particle\n",
    "\n",
    "    Inputs\n",
    "    ------\n",
    "    m : numpy.ndarray\n",
    "        Binary mask that can be obtained from BinaryPSO, will\n",
    "        be used to mask features.\n",
    "    alpha: float (default is 0.5)\n",
    "        Constant weight for trading-off classifier performance\n",
    "        and number of features\n",
    "\n",
    "    Returns\n",
    "    -------\n",
    "    numpy.ndarray\n",
    "        Computed objective function\n",
    "    \"\"\"\n",
    "    total_features = 30\n",
    "    # Get the subset of the features from the binary mask\n",
    "    if np.count_nonzero(m) == 0:\n",
    "        X_subset = X\n",
    "    else:\n",
    "        X_subset = X[:,m==1]\n",
    "    # Perform classification and store performance in P\n",
    "    classifier.fit(X_subset, y)\n",
    "    P = (classifier.predict(X_subset) == y).mean()\n",
    "    # Compute for the objective function\n",
    "    j = (alpha * (1.0 - P)\n",
    "        + (1.0 - alpha) * (1 - (X_subset.shape[1] / total_features)))\n",
    "    return j"
   ]
  },
  {
   "cell_type": "code",
   "execution_count": 11,
   "metadata": {},
   "outputs": [],
   "source": [
    "# The PSO Process\n",
    "def f(x, alpha=0.88):\n",
    "    \"\"\"Higher-level method to do classification in the\n",
    "    whole swarm.\n",
    "\n",
    "    Inputs\n",
    "    ------\n",
    "    x: numpy.ndarray of shape (n_particles, dimensions)\n",
    "        The swarm that will perform the search\n",
    "\n",
    "    Returns\n",
    "    -------\n",
    "    numpy.ndarray of shape (n_particles, )\n",
    "        The computed loss for each particle\n",
    "    \"\"\"\n",
    "    n_particles = x.shape[0]\n",
    "    j = [f_per_particle(x[i], alpha) for i in range(n_particles)]\n",
    "    return np.array(j)"
   ]
  },
  {
   "cell_type": "code",
   "execution_count": 12,
   "metadata": {},
   "outputs": [
    {
     "name": "stderr",
     "output_type": "stream",
     "text": [
      "2019-05-07 23:03:55,800 - pyswarms.discrete.binary - INFO - Optimize for 100 iters with {'c1': 0.5, 'c2': 0.5, 'w': 0.9, 'k': 30, 'p': 2}\n",
      "pyswarms.discrete.binary: 100%|██████████|100/100, best_cost=0.0597\n",
      "2019-05-07 23:04:34,410 - pyswarms.discrete.binary - INFO - Optimization finished | best cost: 0.0596730434782609, best pos: [1 1 1 1 1 1 0 1 0 1 1 1 0 1 1 1 0 1 0 1 1 1 0 1 0 1 1 0 1 0]\n"
     ]
    }
   ],
   "source": [
    "# Initialize swarm, arbitrary\n",
    "options = {'c1': 0.5, 'c2': 0.5, 'w':0.9, 'k': 30, 'p':2}\n",
    "\n",
    "# Call instance of PSO\n",
    "dimensions = 30 # dimensions should be the number of features\n",
    "\n",
    "#Optimize\n",
    "optimizer = ps.discrete.BinaryPSO(n_particles=30, dimensions=dimensions, options=options)\n",
    "#Note : We can change the number of iterations to optimize more\n",
    "# Perform optimization\n",
    "cost, pos = optimizer.optimize(f, iters=100)"
   ]
  },
  {
   "cell_type": "code",
   "execution_count": 14,
   "metadata": {},
   "outputs": [],
   "source": [
    "# Apply KNN on selected features to caclulate the accuracy\n",
    "# Get the selected features from the final positions\n",
    "selected_features = X[:,pos==1]  # subset"
   ]
  },
  {
   "cell_type": "code",
   "execution_count": 15,
   "metadata": {},
   "outputs": [
    {
     "data": {
      "text/plain": [
       "(11500, 21)"
      ]
     },
     "execution_count": 15,
     "metadata": {},
     "output_type": "execute_result"
    }
   ],
   "source": [
    "selected_features.shape"
   ]
  },
  {
   "cell_type": "code",
   "execution_count": 17,
   "metadata": {},
   "outputs": [],
   "source": [
    "# Create dataframe of selected features\n",
    "selected_features = pd.DataFrame(selected_features)"
   ]
  },
  {
   "cell_type": "code",
   "execution_count": 18,
   "metadata": {},
   "outputs": [
    {
     "data": {
      "text/html": [
       "<div>\n",
       "<style scoped>\n",
       "    .dataframe tbody tr th:only-of-type {\n",
       "        vertical-align: middle;\n",
       "    }\n",
       "\n",
       "    .dataframe tbody tr th {\n",
       "        vertical-align: top;\n",
       "    }\n",
       "\n",
       "    .dataframe thead th {\n",
       "        text-align: right;\n",
       "    }\n",
       "</style>\n",
       "<table border=\"1\" class=\"dataframe\">\n",
       "  <thead>\n",
       "    <tr style=\"text-align: right;\">\n",
       "      <th></th>\n",
       "      <th>0</th>\n",
       "      <th>1</th>\n",
       "      <th>2</th>\n",
       "      <th>3</th>\n",
       "      <th>4</th>\n",
       "      <th>5</th>\n",
       "      <th>6</th>\n",
       "      <th>7</th>\n",
       "      <th>8</th>\n",
       "      <th>9</th>\n",
       "      <th>...</th>\n",
       "      <th>11</th>\n",
       "      <th>12</th>\n",
       "      <th>13</th>\n",
       "      <th>14</th>\n",
       "      <th>15</th>\n",
       "      <th>16</th>\n",
       "      <th>17</th>\n",
       "      <th>18</th>\n",
       "      <th>19</th>\n",
       "      <th>20</th>\n",
       "    </tr>\n",
       "  </thead>\n",
       "  <tbody>\n",
       "    <tr>\n",
       "      <th>0</th>\n",
       "      <td>0.949482</td>\n",
       "      <td>-0.042852</td>\n",
       "      <td>0.436261</td>\n",
       "      <td>-0.019769</td>\n",
       "      <td>0.329815</td>\n",
       "      <td>-0.042852</td>\n",
       "      <td>-0.306785</td>\n",
       "      <td>-0.310274</td>\n",
       "      <td>-0.322722</td>\n",
       "      <td>-0.306785</td>\n",
       "      <td>...</td>\n",
       "      <td>0.206290</td>\n",
       "      <td>-0.138815</td>\n",
       "      <td>-0.139100</td>\n",
       "      <td>-0.137582</td>\n",
       "      <td>0.159414</td>\n",
       "      <td>-0.137772</td>\n",
       "      <td>-0.137582</td>\n",
       "      <td>-0.099876</td>\n",
       "      <td>0.234121</td>\n",
       "      <td>0.420650</td>\n",
       "    </tr>\n",
       "    <tr>\n",
       "      <th>1</th>\n",
       "      <td>2.625738</td>\n",
       "      <td>2.182559</td>\n",
       "      <td>2.695884</td>\n",
       "      <td>2.253530</td>\n",
       "      <td>2.860447</td>\n",
       "      <td>2.182559</td>\n",
       "      <td>2.218741</td>\n",
       "      <td>2.215925</td>\n",
       "      <td>2.301297</td>\n",
       "      <td>2.218741</td>\n",
       "      <td>...</td>\n",
       "      <td>1.939113</td>\n",
       "      <td>1.070068</td>\n",
       "      <td>1.064722</td>\n",
       "      <td>2.213680</td>\n",
       "      <td>3.068352</td>\n",
       "      <td>2.214875</td>\n",
       "      <td>2.213680</td>\n",
       "      <td>1.653685</td>\n",
       "      <td>2.494261</td>\n",
       "      <td>1.431335</td>\n",
       "    </tr>\n",
       "    <tr>\n",
       "      <th>2</th>\n",
       "      <td>-0.613918</td>\n",
       "      <td>-0.306393</td>\n",
       "      <td>-0.567403</td>\n",
       "      <td>-0.339167</td>\n",
       "      <td>-0.362984</td>\n",
       "      <td>-0.306393</td>\n",
       "      <td>-0.319787</td>\n",
       "      <td>-0.320355</td>\n",
       "      <td>-0.463506</td>\n",
       "      <td>-0.319787</td>\n",
       "      <td>...</td>\n",
       "      <td>-0.272174</td>\n",
       "      <td>-0.258945</td>\n",
       "      <td>-0.259174</td>\n",
       "      <td>-0.233286</td>\n",
       "      <td>-0.308818</td>\n",
       "      <td>-0.233256</td>\n",
       "      <td>-0.233286</td>\n",
       "      <td>-0.253861</td>\n",
       "      <td>-0.322355</td>\n",
       "      <td>-0.288020</td>\n",
       "    </tr>\n",
       "    <tr>\n",
       "      <th>3</th>\n",
       "      <td>-1.286572</td>\n",
       "      <td>-0.213543</td>\n",
       "      <td>-0.647816</td>\n",
       "      <td>-0.346382</td>\n",
       "      <td>0.101721</td>\n",
       "      <td>-0.213543</td>\n",
       "      <td>-0.336512</td>\n",
       "      <td>-0.334006</td>\n",
       "      <td>-0.569652</td>\n",
       "      <td>-0.336512</td>\n",
       "      <td>...</td>\n",
       "      <td>-0.533629</td>\n",
       "      <td>-0.285521</td>\n",
       "      <td>-0.285623</td>\n",
       "      <td>-0.250711</td>\n",
       "      <td>-0.520954</td>\n",
       "      <td>-0.250666</td>\n",
       "      <td>-0.250711</td>\n",
       "      <td>-0.277625</td>\n",
       "      <td>-0.478865</td>\n",
       "      <td>-0.487939</td>\n",
       "    </tr>\n",
       "    <tr>\n",
       "      <th>4</th>\n",
       "      <td>-0.375314</td>\n",
       "      <td>-0.306431</td>\n",
       "      <td>-0.392306</td>\n",
       "      <td>-0.314025</td>\n",
       "      <td>-0.413603</td>\n",
       "      <td>-0.306431</td>\n",
       "      <td>-0.328879</td>\n",
       "      <td>-0.326989</td>\n",
       "      <td>-0.456352</td>\n",
       "      <td>-0.328879</td>\n",
       "      <td>...</td>\n",
       "      <td>-0.378197</td>\n",
       "      <td>-0.273050</td>\n",
       "      <td>-0.273104</td>\n",
       "      <td>-0.212587</td>\n",
       "      <td>-0.166903</td>\n",
       "      <td>-0.212610</td>\n",
       "      <td>-0.212587</td>\n",
       "      <td>-0.233175</td>\n",
       "      <td>-0.217098</td>\n",
       "      <td>-0.173341</td>\n",
       "    </tr>\n",
       "  </tbody>\n",
       "</table>\n",
       "<p>5 rows × 21 columns</p>\n",
       "</div>"
      ],
      "text/plain": [
       "         0         1         2         3         4         5         6   \\\n",
       "0  0.949482 -0.042852  0.436261 -0.019769  0.329815 -0.042852 -0.306785   \n",
       "1  2.625738  2.182559  2.695884  2.253530  2.860447  2.182559  2.218741   \n",
       "2 -0.613918 -0.306393 -0.567403 -0.339167 -0.362984 -0.306393 -0.319787   \n",
       "3 -1.286572 -0.213543 -0.647816 -0.346382  0.101721 -0.213543 -0.336512   \n",
       "4 -0.375314 -0.306431 -0.392306 -0.314025 -0.413603 -0.306431 -0.328879   \n",
       "\n",
       "         7         8         9     ...           11        12        13  \\\n",
       "0 -0.310274 -0.322722 -0.306785    ...     0.206290 -0.138815 -0.139100   \n",
       "1  2.215925  2.301297  2.218741    ...     1.939113  1.070068  1.064722   \n",
       "2 -0.320355 -0.463506 -0.319787    ...    -0.272174 -0.258945 -0.259174   \n",
       "3 -0.334006 -0.569652 -0.336512    ...    -0.533629 -0.285521 -0.285623   \n",
       "4 -0.326989 -0.456352 -0.328879    ...    -0.378197 -0.273050 -0.273104   \n",
       "\n",
       "         14        15        16        17        18        19        20  \n",
       "0 -0.137582  0.159414 -0.137772 -0.137582 -0.099876  0.234121  0.420650  \n",
       "1  2.213680  3.068352  2.214875  2.213680  1.653685  2.494261  1.431335  \n",
       "2 -0.233286 -0.308818 -0.233256 -0.233286 -0.253861 -0.322355 -0.288020  \n",
       "3 -0.250711 -0.520954 -0.250666 -0.250711 -0.277625 -0.478865 -0.487939  \n",
       "4 -0.212587 -0.166903 -0.212610 -0.212587 -0.233175 -0.217098 -0.173341  \n",
       "\n",
       "[5 rows x 21 columns]"
      ]
     },
     "execution_count": 18,
     "metadata": {},
     "output_type": "execute_result"
    }
   ],
   "source": [
    "selected_features.head()"
   ]
  },
  {
   "cell_type": "markdown",
   "metadata": {},
   "source": [
    "#### Train Test Split"
   ]
  },
  {
   "cell_type": "code",
   "execution_count": 19,
   "metadata": {},
   "outputs": [],
   "source": [
    "from sklearn.model_selection import train_test_split\n",
    "X_train, X_test, y_train, y_test = train_test_split(selected_features,eeg_Y,test_size=0.20)"
   ]
  },
  {
   "cell_type": "code",
   "execution_count": 20,
   "metadata": {},
   "outputs": [],
   "source": [
    "##Training and Predicting"
   ]
  },
  {
   "cell_type": "code",
   "execution_count": 21,
   "metadata": {},
   "outputs": [],
   "source": [
    "#KNN\n",
    "from sklearn.neighbors import KNeighborsClassifier"
   ]
  },
  {
   "cell_type": "code",
   "execution_count": 22,
   "metadata": {},
   "outputs": [
    {
     "data": {
      "text/plain": [
       "KNeighborsClassifier(algorithm='auto', leaf_size=30, metric='minkowski',\n",
       "           metric_params=None, n_jobs=1, n_neighbors=3, p=2,\n",
       "           weights='uniform')"
      ]
     },
     "execution_count": 22,
     "metadata": {},
     "output_type": "execute_result"
    }
   ],
   "source": [
    "# Create an instance of the classifier\n",
    "clf = KNeighborsClassifier(n_neighbors=3)\n",
    "clf.fit(X_train,y_train)"
   ]
  },
  {
   "cell_type": "code",
   "execution_count": 23,
   "metadata": {},
   "outputs": [],
   "source": [
    "predictions = clf.predict(X_test)"
   ]
  },
  {
   "cell_type": "markdown",
   "metadata": {},
   "source": [
    "##### Performance Evaluation"
   ]
  },
  {
   "cell_type": "code",
   "execution_count": 24,
   "metadata": {},
   "outputs": [],
   "source": [
    "from sklearn.metrics import confusion_matrix\n",
    "# Confusion Matrix\n",
    "cm = confusion_matrix(y_test, predictions)"
   ]
  },
  {
   "cell_type": "code",
   "execution_count": 25,
   "metadata": {},
   "outputs": [
    {
     "data": {
      "text/plain": [
       "array([[1822,   36],\n",
       "       [  29,  413]])"
      ]
     },
     "execution_count": 25,
     "metadata": {},
     "output_type": "execute_result"
    }
   ],
   "source": [
    "cm"
   ]
  },
  {
   "cell_type": "code",
   "execution_count": 26,
   "metadata": {},
   "outputs": [],
   "source": [
    "True_Positive = cm[0][0]\n",
    "True_Negative = cm[1][1]\n",
    "False_Positive = cm[0][1]\n",
    "False_Negative = cm[1][0]"
   ]
  },
  {
   "cell_type": "code",
   "execution_count": 27,
   "metadata": {},
   "outputs": [
    {
     "name": "stdout",
     "output_type": "stream",
     "text": [
      "97.17\n"
     ]
    }
   ],
   "source": [
    "Accuracy = (True_Positive + True_Negative) / (True_Positive + True_Negative + False_Positive + False_Negative) * 100\n",
    "print(\"%.2f\" % Accuracy)"
   ]
  },
  {
   "cell_type": "code",
   "execution_count": 28,
   "metadata": {},
   "outputs": [
    {
     "name": "stdout",
     "output_type": "stream",
     "text": [
      "98.43\n"
     ]
    }
   ],
   "source": [
    "Sensitivity = True_Positive / (True_Positive + False_Negative) * 100\n",
    "print(\"%.2f\" % Sensitivity)"
   ]
  },
  {
   "cell_type": "code",
   "execution_count": 29,
   "metadata": {},
   "outputs": [
    {
     "name": "stdout",
     "output_type": "stream",
     "text": [
      "91.98\n"
     ]
    }
   ],
   "source": [
    "Specificity = True_Negative / (True_Negative + False_Positive) * 100\n",
    "print(\"%.2f\" % Specificity) "
   ]
  },
  {
   "cell_type": "code",
   "execution_count": null,
   "metadata": {},
   "outputs": [],
   "source": []
  }
 ],
 "metadata": {
  "kernelspec": {
   "display_name": "Python 3",
   "language": "python",
   "name": "python3"
  },
  "language_info": {
   "codemirror_mode": {
    "name": "ipython",
    "version": 3
   },
   "file_extension": ".py",
   "mimetype": "text/x-python",
   "name": "python",
   "nbconvert_exporter": "python",
   "pygments_lexer": "ipython3",
   "version": "3.6.5"
  }
 },
 "nbformat": 4,
 "nbformat_minor": 2
}
